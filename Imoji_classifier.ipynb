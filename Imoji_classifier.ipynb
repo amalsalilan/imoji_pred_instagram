{
 "cells": [
  {
   "cell_type": "code",
   "execution_count": 1,
   "id": "56f38335",
   "metadata": {},
   "outputs": [],
   "source": [
    "import numpy as np\n",
    "import pandas as pd\n",
    "from sklearn.preprocessing import OneHotEncoder\n",
    "from category_encoders import OrdinalEncoder\n",
    "from sklearn.svm import SVC\n",
    "from sklearn.ensemble import BaggingClassifier\n",
    "from sklearn.datasets import make_classification\n",
    "from sklearn.preprocessing import LabelEncoder\n",
    "from sklearn.ensemble import RandomForestClassifier\n",
    "from sklearn.model_selection import train_test_split\n",
    "from sklearn.metrics import accuracy_score,f1_score,roc_auc_score\n",
    "\n",
    "\n",
    "from sklearn.linear_model import LogisticRegression\n",
    "from sklearn.svm import SVC\n"
   ]
  },
  {
   "cell_type": "code",
   "execution_count": 2,
   "id": "1d8b6236",
   "metadata": {},
   "outputs": [],
   "source": [
    "one_hot_encoder=OneHotEncoder()\n",
    "ordinal_encoder=OrdinalEncoder()\n",
    "label_encoder=LabelEncoder()"
   ]
  },
  {
   "cell_type": "code",
   "execution_count": 3,
   "id": "e34aa998",
   "metadata": {},
   "outputs": [
    {
     "data": {
      "text/html": [
       "<div>\n",
       "<style scoped>\n",
       "    .dataframe tbody tr th:only-of-type {\n",
       "        vertical-align: middle;\n",
       "    }\n",
       "\n",
       "    .dataframe tbody tr th {\n",
       "        vertical-align: top;\n",
       "    }\n",
       "\n",
       "    .dataframe thead th {\n",
       "        text-align: right;\n",
       "    }\n",
       "</style>\n",
       "<table border=\"1\" class=\"dataframe\">\n",
       "  <thead>\n",
       "    <tr style=\"text-align: right;\">\n",
       "      <th></th>\n",
       "      <th>emojis</th>\n",
       "      <th>hex value</th>\n",
       "      <th>decimal</th>\n",
       "      <th>discription</th>\n",
       "      <th>class</th>\n",
       "    </tr>\n",
       "  </thead>\n",
       "  <tbody>\n",
       "    <tr>\n",
       "      <th>0</th>\n",
       "      <td>😄</td>\n",
       "      <td>1f604</td>\n",
       "      <td>128516</td>\n",
       "      <td>smile</td>\n",
       "      <td>positive</td>\n",
       "    </tr>\n",
       "    <tr>\n",
       "      <th>1</th>\n",
       "      <td>😆</td>\n",
       "      <td>1f606</td>\n",
       "      <td>128518</td>\n",
       "      <td>laughing</td>\n",
       "      <td>positive</td>\n",
       "    </tr>\n",
       "    <tr>\n",
       "      <th>2</th>\n",
       "      <td>😊</td>\n",
       "      <td>1f60a</td>\n",
       "      <td>128522</td>\n",
       "      <td>blush</td>\n",
       "      <td>positive</td>\n",
       "    </tr>\n",
       "    <tr>\n",
       "      <th>3</th>\n",
       "      <td>😃</td>\n",
       "      <td>1f603</td>\n",
       "      <td>128515</td>\n",
       "      <td>smiley</td>\n",
       "      <td>positive</td>\n",
       "    </tr>\n",
       "    <tr>\n",
       "      <th>4</th>\n",
       "      <td>☺</td>\n",
       "      <td>263a</td>\n",
       "      <td>9786</td>\n",
       "      <td>relaxed</td>\n",
       "      <td>positive</td>\n",
       "    </tr>\n",
       "    <tr>\n",
       "      <th>...</th>\n",
       "      <td>...</td>\n",
       "      <td>...</td>\n",
       "      <td>...</td>\n",
       "      <td>...</td>\n",
       "      <td>...</td>\n",
       "    </tr>\n",
       "    <tr>\n",
       "      <th>176</th>\n",
       "      <td>🌀</td>\n",
       "      <td>1f300</td>\n",
       "      <td>127744</td>\n",
       "      <td>cyclone</td>\n",
       "      <td>nutral</td>\n",
       "    </tr>\n",
       "    <tr>\n",
       "      <th>177</th>\n",
       "      <td>🌁</td>\n",
       "      <td>1f301</td>\n",
       "      <td>127745</td>\n",
       "      <td>foggy</td>\n",
       "      <td>nutral</td>\n",
       "    </tr>\n",
       "    <tr>\n",
       "      <th>178</th>\n",
       "      <td>🌊</td>\n",
       "      <td>1f30a</td>\n",
       "      <td>127754</td>\n",
       "      <td>ocean</td>\n",
       "      <td>nutral</td>\n",
       "    </tr>\n",
       "    <tr>\n",
       "      <th>179</th>\n",
       "      <td>🐱</td>\n",
       "      <td>1f431</td>\n",
       "      <td>128049</td>\n",
       "      <td>cat</td>\n",
       "      <td>nutral</td>\n",
       "    </tr>\n",
       "    <tr>\n",
       "      <th>180</th>\n",
       "      <td>🐶</td>\n",
       "      <td>1f436</td>\n",
       "      <td>128054</td>\n",
       "      <td>dog</td>\n",
       "      <td>nutral</td>\n",
       "    </tr>\n",
       "  </tbody>\n",
       "</table>\n",
       "<p>181 rows × 5 columns</p>\n",
       "</div>"
      ],
      "text/plain": [
       "    emojis hex value  decimal discription     class\n",
       "0        😄     1f604   128516       smile  positive\n",
       "1        😆     1f606   128518    laughing  positive\n",
       "2        😊     1f60a   128522       blush  positive\n",
       "3        😃     1f603   128515      smiley  positive\n",
       "4        ☺      263a     9786     relaxed  positive\n",
       "..     ...       ...      ...         ...       ...\n",
       "176      🌀     1f300   127744     cyclone    nutral\n",
       "177      🌁     1f301   127745       foggy    nutral\n",
       "178      🌊     1f30a   127754       ocean    nutral\n",
       "179      🐱     1f431   128049         cat    nutral\n",
       "180      🐶     1f436   128054         dog    nutral\n",
       "\n",
       "[181 rows x 5 columns]"
      ]
     },
     "execution_count": 3,
     "metadata": {},
     "output_type": "execute_result"
    }
   ],
   "source": [
    "data=pd.read_csv(\"C:/Users/Yuthayakarthick/Documents/Amal_Docs_Codes/Data_sets/emoji-full-codes-csv-printout - Copy.csv\")\n",
    "data"
   ]
  },
  {
   "cell_type": "code",
   "execution_count": 4,
   "id": "7b005a47",
   "metadata": {},
   "outputs": [],
   "source": [
    "\n",
    "data = data[:181]\n",
    "data=data.drop(['emojis','discription','hex value'],axis=1)"
   ]
  },
  {
   "cell_type": "code",
   "execution_count": 5,
   "id": "12968136",
   "metadata": {},
   "outputs": [
    {
     "data": {
      "text/html": [
       "<div>\n",
       "<style scoped>\n",
       "    .dataframe tbody tr th:only-of-type {\n",
       "        vertical-align: middle;\n",
       "    }\n",
       "\n",
       "    .dataframe tbody tr th {\n",
       "        vertical-align: top;\n",
       "    }\n",
       "\n",
       "    .dataframe thead th {\n",
       "        text-align: right;\n",
       "    }\n",
       "</style>\n",
       "<table border=\"1\" class=\"dataframe\">\n",
       "  <thead>\n",
       "    <tr style=\"text-align: right;\">\n",
       "      <th></th>\n",
       "      <th>decimal</th>\n",
       "      <th>class</th>\n",
       "    </tr>\n",
       "  </thead>\n",
       "  <tbody>\n",
       "    <tr>\n",
       "      <th>0</th>\n",
       "      <td>128516</td>\n",
       "      <td>positive</td>\n",
       "    </tr>\n",
       "    <tr>\n",
       "      <th>1</th>\n",
       "      <td>128518</td>\n",
       "      <td>positive</td>\n",
       "    </tr>\n",
       "    <tr>\n",
       "      <th>2</th>\n",
       "      <td>128522</td>\n",
       "      <td>positive</td>\n",
       "    </tr>\n",
       "    <tr>\n",
       "      <th>3</th>\n",
       "      <td>128515</td>\n",
       "      <td>positive</td>\n",
       "    </tr>\n",
       "    <tr>\n",
       "      <th>4</th>\n",
       "      <td>9786</td>\n",
       "      <td>positive</td>\n",
       "    </tr>\n",
       "  </tbody>\n",
       "</table>\n",
       "</div>"
      ],
      "text/plain": [
       "   decimal     class\n",
       "0   128516  positive\n",
       "1   128518  positive\n",
       "2   128522  positive\n",
       "3   128515  positive\n",
       "4     9786  positive"
      ]
     },
     "execution_count": 5,
     "metadata": {},
     "output_type": "execute_result"
    }
   ],
   "source": [
    "data.head(5)"
   ]
  },
  {
   "cell_type": "code",
   "execution_count": 6,
   "id": "fdbb3dd1",
   "metadata": {},
   "outputs": [
    {
     "name": "stdout",
     "output_type": "stream",
     "text": [
      "nutral      65\n",
      "positive    62\n",
      "negative    54\n",
      "Name: class, dtype: int64 \n",
      "Total is 3\n"
     ]
    }
   ],
   "source": [
    "dis=data['class'].value_counts()\n",
    "print(dis,\"\\nTotal is\",len(dis))"
   ]
  },
  {
   "cell_type": "code",
   "execution_count": 7,
   "id": "66bd607d",
   "metadata": {},
   "outputs": [],
   "source": [
    "data['class']=label_encoder.fit_transform(data['class'])"
   ]
  },
  {
   "cell_type": "code",
   "execution_count": 8,
   "id": "a02073da",
   "metadata": {},
   "outputs": [
    {
     "data": {
      "text/html": [
       "<div>\n",
       "<style scoped>\n",
       "    .dataframe tbody tr th:only-of-type {\n",
       "        vertical-align: middle;\n",
       "    }\n",
       "\n",
       "    .dataframe tbody tr th {\n",
       "        vertical-align: top;\n",
       "    }\n",
       "\n",
       "    .dataframe thead th {\n",
       "        text-align: right;\n",
       "    }\n",
       "</style>\n",
       "<table border=\"1\" class=\"dataframe\">\n",
       "  <thead>\n",
       "    <tr style=\"text-align: right;\">\n",
       "      <th></th>\n",
       "      <th>decimal</th>\n",
       "      <th>class</th>\n",
       "    </tr>\n",
       "  </thead>\n",
       "  <tbody>\n",
       "    <tr>\n",
       "      <th>0</th>\n",
       "      <td>128516</td>\n",
       "      <td>2</td>\n",
       "    </tr>\n",
       "    <tr>\n",
       "      <th>1</th>\n",
       "      <td>128518</td>\n",
       "      <td>2</td>\n",
       "    </tr>\n",
       "    <tr>\n",
       "      <th>2</th>\n",
       "      <td>128522</td>\n",
       "      <td>2</td>\n",
       "    </tr>\n",
       "    <tr>\n",
       "      <th>3</th>\n",
       "      <td>128515</td>\n",
       "      <td>2</td>\n",
       "    </tr>\n",
       "    <tr>\n",
       "      <th>4</th>\n",
       "      <td>9786</td>\n",
       "      <td>2</td>\n",
       "    </tr>\n",
       "    <tr>\n",
       "      <th>...</th>\n",
       "      <td>...</td>\n",
       "      <td>...</td>\n",
       "    </tr>\n",
       "    <tr>\n",
       "      <th>176</th>\n",
       "      <td>127744</td>\n",
       "      <td>1</td>\n",
       "    </tr>\n",
       "    <tr>\n",
       "      <th>177</th>\n",
       "      <td>127745</td>\n",
       "      <td>1</td>\n",
       "    </tr>\n",
       "    <tr>\n",
       "      <th>178</th>\n",
       "      <td>127754</td>\n",
       "      <td>1</td>\n",
       "    </tr>\n",
       "    <tr>\n",
       "      <th>179</th>\n",
       "      <td>128049</td>\n",
       "      <td>1</td>\n",
       "    </tr>\n",
       "    <tr>\n",
       "      <th>180</th>\n",
       "      <td>128054</td>\n",
       "      <td>1</td>\n",
       "    </tr>\n",
       "  </tbody>\n",
       "</table>\n",
       "<p>181 rows × 2 columns</p>\n",
       "</div>"
      ],
      "text/plain": [
       "     decimal  class\n",
       "0     128516      2\n",
       "1     128518      2\n",
       "2     128522      2\n",
       "3     128515      2\n",
       "4       9786      2\n",
       "..       ...    ...\n",
       "176   127744      1\n",
       "177   127745      1\n",
       "178   127754      1\n",
       "179   128049      1\n",
       "180   128054      1\n",
       "\n",
       "[181 rows x 2 columns]"
      ]
     },
     "execution_count": 8,
     "metadata": {},
     "output_type": "execute_result"
    }
   ],
   "source": [
    "data"
   ]
  },
  {
   "cell_type": "code",
   "execution_count": 9,
   "id": "d268084e",
   "metadata": {},
   "outputs": [
    {
     "name": "stdout",
     "output_type": "stream",
     "text": [
      "<class 'pandas.core.frame.DataFrame'>\n",
      "RangeIndex: 181 entries, 0 to 180\n",
      "Data columns (total 2 columns):\n",
      " #   Column   Non-Null Count  Dtype\n",
      "---  ------   --------------  -----\n",
      " 0   decimal  181 non-null    int64\n",
      " 1   class    181 non-null    int32\n",
      "dtypes: int32(1), int64(1)\n",
      "memory usage: 2.2 KB\n"
     ]
    }
   ],
   "source": [
    "data.info()"
   ]
  },
  {
   "cell_type": "code",
   "execution_count": null,
   "id": "8eee9183",
   "metadata": {},
   "outputs": [],
   "source": []
  },
  {
   "cell_type": "code",
   "execution_count": 10,
   "id": "1ef915e6",
   "metadata": {},
   "outputs": [],
   "source": [
    "x=data.drop(['class'],axis=1)\n",
    "y=data['class']"
   ]
  },
  {
   "cell_type": "code",
   "execution_count": 11,
   "id": "de11e384",
   "metadata": {},
   "outputs": [],
   "source": [
    "x_train,x_test,y_train,y_test=train_test_split(x,y)"
   ]
  },
  {
   "cell_type": "code",
   "execution_count": 12,
   "id": "313cbfa0",
   "metadata": {},
   "outputs": [
    {
     "name": "stdout",
     "output_type": "stream",
     "text": [
      "     decimal\n",
      "162   128064\n",
      "143   128571\n",
      "78     10067\n",
      "28    128529\n",
      "172     9729\n",
      "..       ...\n",
      "1     128518\n",
      "105   128170\n",
      "33    128532\n",
      "47    128548\n",
      "92      9994\n",
      "\n",
      "[135 rows x 1 columns]\n"
     ]
    }
   ],
   "source": [
    "print(x_train)"
   ]
  },
  {
   "cell_type": "code",
   "execution_count": 13,
   "id": "28729045",
   "metadata": {},
   "outputs": [
    {
     "name": "stdout",
     "output_type": "stream",
     "text": [
      "162    1\n",
      "143    2\n",
      "78     0\n",
      "28     0\n",
      "172    1\n",
      "      ..\n",
      "1      2\n",
      "105    2\n",
      "33     0\n",
      "47     0\n",
      "92     0\n",
      "Name: class, Length: 135, dtype: int32\n"
     ]
    }
   ],
   "source": [
    "print(y_train)"
   ]
  },
  {
   "cell_type": "code",
   "execution_count": 14,
   "id": "9811d53f",
   "metadata": {},
   "outputs": [
    {
     "data": {
      "text/plain": [
       "0.6956521739130435"
      ]
     },
     "execution_count": 14,
     "metadata": {},
     "output_type": "execute_result"
    }
   ],
   "source": [
    "model=RandomForestClassifier(n_estimators=1000,min_samples_split=5,min_samples_leaf=4,max_features='auto',max_depth=100,bootstrap=True)\n",
    "model.fit(x_train,y_train)\n",
    "model.score(x_test,y_test)"
   ]
  },
  {
   "cell_type": "code",
   "execution_count": 15,
   "id": "2bcc0b17",
   "metadata": {},
   "outputs": [
    {
     "ename": "SyntaxError",
     "evalue": "illegal target for annotation (Temp/ipykernel_15948/1023065145.py, line 1)",
     "output_type": "error",
     "traceback": [
      "\u001b[1;36m  File \u001b[1;32m\"C:\\Users\\YUTHAY~1\\AppData\\Local\\Temp/ipykernel_15948/1023065145.py\"\u001b[1;36m, line \u001b[1;32m1\u001b[0m\n\u001b[1;33m    'n_estimators': 1000,\u001b[0m\n\u001b[1;37m    ^\u001b[0m\n\u001b[1;31mSyntaxError\u001b[0m\u001b[1;31m:\u001b[0m illegal target for annotation\n"
     ]
    }
   ],
   "source": [
    "'n_estimators': 1000,\n",
    " 'min_samples_split': 5,\n",
    " 'min_samples_leaf': 4,\n",
    " 'max_features': 'auto',\n",
    " 'max_depth': 100,\n",
    " 'bootstrap': True"
   ]
  },
  {
   "cell_type": "code",
   "execution_count": null,
   "id": "60343ba6",
   "metadata": {},
   "outputs": [],
   "source": [
    "svc.fit(x_train,y_train)\n",
    "svc.score(x_test,y_test)"
   ]
  },
  {
   "cell_type": "code",
   "execution_count": null,
   "id": "1744d509",
   "metadata": {},
   "outputs": [],
   "source": [
    "lr.fit(x_train,y_train)\n",
    "lr.score(x_test,y_test)\n"
   ]
  },
  {
   "cell_type": "code",
   "execution_count": null,
   "id": "5fc0592b",
   "metadata": {},
   "outputs": [],
   "source": [
    "model.classes_"
   ]
  },
  {
   "cell_type": "code",
   "execution_count": null,
   "id": "f9cd42f5",
   "metadata": {},
   "outputs": [],
   "source": [
    "# x_test\n",
    "# a = np.array([128072,128106])\n",
    "# a = a.reshape(-1,1)"
   ]
  },
  {
   "cell_type": "code",
   "execution_count": null,
   "id": "c02502da",
   "metadata": {},
   "outputs": [],
   "source": [
    "pred=model.predict(x_test)\n"
   ]
  },
  {
   "cell_type": "code",
   "execution_count": null,
   "id": "f2c99af8",
   "metadata": {},
   "outputs": [],
   "source": [
    "# base_model = RandomForestClassifier(n_estimators=10, random_state = 42)\n",
    "# base_model.fit(x_train, y_train)\n",
    "# pred=base_model.predict(x_test)\n",
    "# accuracy_score(pred,y_test)"
   ]
  },
  {
   "cell_type": "code",
   "execution_count": null,
   "id": "7b3a30da",
   "metadata": {},
   "outputs": [],
   "source": [
    "print(\"accuracy:\",accuracy_score(pred,y_test)*100)\n"
   ]
  },
  {
   "cell_type": "code",
   "execution_count": null,
   "id": "91b79506",
   "metadata": {},
   "outputs": [],
   "source": [
    "# %pip install xgboost\n",
    "import xgboost"
   ]
  },
  {
   "cell_type": "code",
   "execution_count": null,
   "id": "b7e710d6",
   "metadata": {},
   "outputs": [],
   "source": [
    "svc=SVC()\n",
    "lr=LogisticRegression()"
   ]
  },
  {
   "cell_type": "code",
   "execution_count": null,
   "id": "24db6348",
   "metadata": {},
   "outputs": [],
   "source": [
    "from sklearn.model_selection import KFold\n",
    "kf=KFold(n_splits=9)\n",
    "kf"
   ]
  },
  {
   "cell_type": "code",
   "execution_count": null,
   "id": "7b05e376",
   "metadata": {},
   "outputs": [],
   "source": [
    "for train_index, test_index in kf.split([1,2,3,4,5,6,7,8,9]):\n",
    "    print(train_index, test_index)"
   ]
  },
  {
   "cell_type": "code",
   "execution_count": null,
   "id": "3256172d",
   "metadata": {},
   "outputs": [],
   "source": [
    "from sklearn.model_selection import StratifiedKFold\n",
    "fold=StratifiedKFold(n_splits=4)"
   ]
  },
  {
   "cell_type": "code",
   "execution_count": null,
   "id": "b91c5c93",
   "metadata": {},
   "outputs": [],
   "source": [
    "scores_l[]\n",
    "scoree_svm=[]\n",
    "score_rf=[]\n",
    "\n"
   ]
  },
  {
   "cell_type": "code",
   "execution_count": 17,
   "id": "3e6aefcb",
   "metadata": {},
   "outputs": [],
   "source": []
  },
  {
   "cell_type": "code",
   "execution_count": null,
   "id": "cfbd584d",
   "metadata": {},
   "outputs": [],
   "source": []
  }
 ],
 "metadata": {
  "kernelspec": {
   "display_name": "Python 3 (ipykernel)",
   "language": "python",
   "name": "python3"
  },
  "language_info": {
   "codemirror_mode": {
    "name": "ipython",
    "version": 3
   },
   "file_extension": ".py",
   "mimetype": "text/x-python",
   "name": "python",
   "nbconvert_exporter": "python",
   "pygments_lexer": "ipython3",
   "version": "3.9.7"
  }
 },
 "nbformat": 4,
 "nbformat_minor": 5
}
